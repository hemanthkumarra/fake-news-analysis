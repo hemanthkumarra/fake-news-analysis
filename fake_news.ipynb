{
 "cells": [
  {
   "cell_type": "code",
   "execution_count": 3,
   "metadata": {
    "id": "x7UW0JxGfJRa"
   },
   "outputs": [],
   "source": [
    "import numpy as np\n",
    "import pandas as pd\n",
    "import seaborn as sns\n",
    "import matplotlib.pyplot as plt"
   ]
  },
  {
   "cell_type": "code",
   "execution_count": 4,
   "metadata": {
    "colab": {
     "base_uri": "https://localhost:8080/",
     "height": 206
    },
    "id": "hEpMu5tPYX9Q",
    "outputId": "27892831-02cd-4312-94d8-76a14281ad84"
   },
   "outputs": [
    {
     "data": {
      "text/html": [
       "<div>\n",
       "<style scoped>\n",
       "    .dataframe tbody tr th:only-of-type {\n",
       "        vertical-align: middle;\n",
       "    }\n",
       "\n",
       "    .dataframe tbody tr th {\n",
       "        vertical-align: top;\n",
       "    }\n",
       "\n",
       "    .dataframe thead th {\n",
       "        text-align: right;\n",
       "    }\n",
       "</style>\n",
       "<table border=\"1\" class=\"dataframe\">\n",
       "  <thead>\n",
       "    <tr style=\"text-align: right;\">\n",
       "      <th></th>\n",
       "      <th>title</th>\n",
       "      <th>text</th>\n",
       "      <th>date</th>\n",
       "      <th>source</th>\n",
       "      <th>author</th>\n",
       "      <th>category</th>\n",
       "      <th>label</th>\n",
       "    </tr>\n",
       "  </thead>\n",
       "  <tbody>\n",
       "    <tr>\n",
       "      <th>0</th>\n",
       "      <td>Foreign Democrat final.</td>\n",
       "      <td>more tax development both store agreement lawy...</td>\n",
       "      <td>2023-03-10</td>\n",
       "      <td>NY Times</td>\n",
       "      <td>Paula George</td>\n",
       "      <td>Politics</td>\n",
       "      <td>real</td>\n",
       "    </tr>\n",
       "    <tr>\n",
       "      <th>1</th>\n",
       "      <td>To offer down resource great point.</td>\n",
       "      <td>probably guess western behind likely next inve...</td>\n",
       "      <td>2022-05-25</td>\n",
       "      <td>Fox News</td>\n",
       "      <td>Joseph Hill</td>\n",
       "      <td>Politics</td>\n",
       "      <td>fake</td>\n",
       "    </tr>\n",
       "    <tr>\n",
       "      <th>2</th>\n",
       "      <td>Himself church myself carry.</td>\n",
       "      <td>them identify forward present success risk sev...</td>\n",
       "      <td>2022-09-01</td>\n",
       "      <td>CNN</td>\n",
       "      <td>Julia Robinson</td>\n",
       "      <td>Business</td>\n",
       "      <td>fake</td>\n",
       "    </tr>\n",
       "    <tr>\n",
       "      <th>3</th>\n",
       "      <td>You unit its should.</td>\n",
       "      <td>phone which item yard Republican safe where po...</td>\n",
       "      <td>2023-02-07</td>\n",
       "      <td>Reuters</td>\n",
       "      <td>Mr. David Foster DDS</td>\n",
       "      <td>Science</td>\n",
       "      <td>fake</td>\n",
       "    </tr>\n",
       "    <tr>\n",
       "      <th>4</th>\n",
       "      <td>Billion believe employee summer how.</td>\n",
       "      <td>wonder myself fact difficult course forget exa...</td>\n",
       "      <td>2023-04-03</td>\n",
       "      <td>CNN</td>\n",
       "      <td>Austin Walker</td>\n",
       "      <td>Technology</td>\n",
       "      <td>fake</td>\n",
       "    </tr>\n",
       "  </tbody>\n",
       "</table>\n",
       "</div>"
      ],
      "text/plain": [
       "                                  title  \\\n",
       "0               Foreign Democrat final.   \n",
       "1   To offer down resource great point.   \n",
       "2          Himself church myself carry.   \n",
       "3                  You unit its should.   \n",
       "4  Billion believe employee summer how.   \n",
       "\n",
       "                                                text        date    source  \\\n",
       "0  more tax development both store agreement lawy...  2023-03-10  NY Times   \n",
       "1  probably guess western behind likely next inve...  2022-05-25  Fox News   \n",
       "2  them identify forward present success risk sev...  2022-09-01       CNN   \n",
       "3  phone which item yard Republican safe where po...  2023-02-07   Reuters   \n",
       "4  wonder myself fact difficult course forget exa...  2023-04-03       CNN   \n",
       "\n",
       "                 author    category label  \n",
       "0          Paula George    Politics  real  \n",
       "1           Joseph Hill    Politics  fake  \n",
       "2        Julia Robinson    Business  fake  \n",
       "3  Mr. David Foster DDS     Science  fake  \n",
       "4         Austin Walker  Technology  fake  "
      ]
     },
     "execution_count": 4,
     "metadata": {},
     "output_type": "execute_result"
    }
   ],
   "source": [
    "\n",
    "df=pd.read_csv(\"C:/Users/Hemanth kumar/Downloads/fake_news_dataset.csv\")\n",
    "df.head()"
   ]
  },
  {
   "cell_type": "code",
   "execution_count": 5,
   "metadata": {
    "colab": {
     "base_uri": "https://localhost:8080/",
     "height": 206
    },
    "id": "nETRYYsVfPv7",
    "outputId": "42103164-7ad0-4f9a-d18b-686e7e36f0cf"
   },
   "outputs": [
    {
     "data": {
      "text/html": [
       "<div>\n",
       "<style scoped>\n",
       "    .dataframe tbody tr th:only-of-type {\n",
       "        vertical-align: middle;\n",
       "    }\n",
       "\n",
       "    .dataframe tbody tr th {\n",
       "        vertical-align: top;\n",
       "    }\n",
       "\n",
       "    .dataframe thead th {\n",
       "        text-align: right;\n",
       "    }\n",
       "</style>\n",
       "<table border=\"1\" class=\"dataframe\">\n",
       "  <thead>\n",
       "    <tr style=\"text-align: right;\">\n",
       "      <th></th>\n",
       "      <th>title</th>\n",
       "      <th>text</th>\n",
       "      <th>date</th>\n",
       "      <th>source</th>\n",
       "      <th>author</th>\n",
       "      <th>category</th>\n",
       "      <th>label</th>\n",
       "    </tr>\n",
       "  </thead>\n",
       "  <tbody>\n",
       "    <tr>\n",
       "      <th>19995</th>\n",
       "      <td>House party born.</td>\n",
       "      <td>hit and television I change very our happy doo...</td>\n",
       "      <td>2024-12-04</td>\n",
       "      <td>BBC</td>\n",
       "      <td>Gary Miles</td>\n",
       "      <td>Entertainment</td>\n",
       "      <td>fake</td>\n",
       "    </tr>\n",
       "    <tr>\n",
       "      <th>19996</th>\n",
       "      <td>Though nation people maybe price box.</td>\n",
       "      <td>fear most meet rock even sea value design stan...</td>\n",
       "      <td>2024-05-26</td>\n",
       "      <td>Daily News</td>\n",
       "      <td>Maria Mcbride</td>\n",
       "      <td>Entertainment</td>\n",
       "      <td>real</td>\n",
       "    </tr>\n",
       "    <tr>\n",
       "      <th>19997</th>\n",
       "      <td>Yet exist with experience unit.</td>\n",
       "      <td>activity loss very provide eye west create wha...</td>\n",
       "      <td>2023-04-17</td>\n",
       "      <td>BBC</td>\n",
       "      <td>Kristen Franklin</td>\n",
       "      <td>Entertainment</td>\n",
       "      <td>real</td>\n",
       "    </tr>\n",
       "    <tr>\n",
       "      <th>19998</th>\n",
       "      <td>School wide itself item.</td>\n",
       "      <td>term point general common training watch respo...</td>\n",
       "      <td>2024-06-30</td>\n",
       "      <td>Reuters</td>\n",
       "      <td>David Wise</td>\n",
       "      <td>Health</td>\n",
       "      <td>fake</td>\n",
       "    </tr>\n",
       "    <tr>\n",
       "      <th>19999</th>\n",
       "      <td>Offer chair cover senior born.</td>\n",
       "      <td>remain pressure glass me six senior though nor...</td>\n",
       "      <td>2024-01-24</td>\n",
       "      <td>Daily News</td>\n",
       "      <td>James Peterson</td>\n",
       "      <td>Health</td>\n",
       "      <td>fake</td>\n",
       "    </tr>\n",
       "  </tbody>\n",
       "</table>\n",
       "</div>"
      ],
      "text/plain": [
       "                                       title  \\\n",
       "19995                      House party born.   \n",
       "19996  Though nation people maybe price box.   \n",
       "19997        Yet exist with experience unit.   \n",
       "19998               School wide itself item.   \n",
       "19999         Offer chair cover senior born.   \n",
       "\n",
       "                                                    text        date  \\\n",
       "19995  hit and television I change very our happy doo...  2024-12-04   \n",
       "19996  fear most meet rock even sea value design stan...  2024-05-26   \n",
       "19997  activity loss very provide eye west create wha...  2023-04-17   \n",
       "19998  term point general common training watch respo...  2024-06-30   \n",
       "19999  remain pressure glass me six senior though nor...  2024-01-24   \n",
       "\n",
       "           source            author       category label  \n",
       "19995         BBC        Gary Miles  Entertainment  fake  \n",
       "19996  Daily News     Maria Mcbride  Entertainment  real  \n",
       "19997         BBC  Kristen Franklin  Entertainment  real  \n",
       "19998     Reuters        David Wise         Health  fake  \n",
       "19999  Daily News    James Peterson         Health  fake  "
      ]
     },
     "execution_count": 5,
     "metadata": {},
     "output_type": "execute_result"
    }
   ],
   "source": [
    "df.tail()"
   ]
  },
  {
   "cell_type": "code",
   "execution_count": 6,
   "metadata": {
    "colab": {
     "base_uri": "https://localhost:8080/"
    },
    "id": "zLkSE1uufVut",
    "outputId": "cb164878-eec4-4001-db99-3bbd6559dd5f"
   },
   "outputs": [
    {
     "data": {
      "text/plain": [
       "(20000, 7)"
      ]
     },
     "execution_count": 6,
     "metadata": {},
     "output_type": "execute_result"
    }
   ],
   "source": [
    "df.shape"
   ]
  },
  {
   "cell_type": "code",
   "execution_count": 11,
   "metadata": {
    "colab": {
     "base_uri": "https://localhost:8080/"
    },
    "id": "rr5V5AObfYpO",
    "outputId": "18ac1772-c5cb-463d-e252-8afcf9d4df54"
   },
   "outputs": [
    {
     "name": "stdout",
     "output_type": "stream",
     "text": [
      "<class 'pandas.core.frame.DataFrame'>\n",
      "RangeIndex: 20000 entries, 0 to 19999\n",
      "Data columns (total 7 columns):\n",
      " #   Column    Non-Null Count  Dtype \n",
      "---  ------    --------------  ----- \n",
      " 0   title     20000 non-null  object\n",
      " 1   text      20000 non-null  object\n",
      " 2   date      20000 non-null  object\n",
      " 3   source    19000 non-null  object\n",
      " 4   author    19000 non-null  object\n",
      " 5   category  20000 non-null  object\n",
      " 6   label     20000 non-null  object\n",
      "dtypes: object(7)\n",
      "memory usage: 1.1+ MB\n"
     ]
    }
   ],
   "source": [
    "df.info()"
   ]
  },
  {
   "cell_type": "code",
   "execution_count": 13,
   "metadata": {
    "colab": {
     "base_uri": "https://localhost:8080/",
     "height": 175
    },
    "id": "ooBZNd9Dfb-y",
    "outputId": "1bb3efed-6f38-489e-8c3d-566a52d9fba5"
   },
   "outputs": [
    {
     "data": {
      "text/html": [
       "<div>\n",
       "<style scoped>\n",
       "    .dataframe tbody tr th:only-of-type {\n",
       "        vertical-align: middle;\n",
       "    }\n",
       "\n",
       "    .dataframe tbody tr th {\n",
       "        vertical-align: top;\n",
       "    }\n",
       "\n",
       "    .dataframe thead th {\n",
       "        text-align: right;\n",
       "    }\n",
       "</style>\n",
       "<table border=\"1\" class=\"dataframe\">\n",
       "  <thead>\n",
       "    <tr style=\"text-align: right;\">\n",
       "      <th></th>\n",
       "      <th>title</th>\n",
       "      <th>text</th>\n",
       "      <th>date</th>\n",
       "      <th>source</th>\n",
       "      <th>author</th>\n",
       "      <th>category</th>\n",
       "      <th>label</th>\n",
       "    </tr>\n",
       "  </thead>\n",
       "  <tbody>\n",
       "    <tr>\n",
       "      <th>count</th>\n",
       "      <td>20000</td>\n",
       "      <td>20000</td>\n",
       "      <td>20000</td>\n",
       "      <td>19000</td>\n",
       "      <td>19000</td>\n",
       "      <td>20000</td>\n",
       "      <td>20000</td>\n",
       "    </tr>\n",
       "    <tr>\n",
       "      <th>unique</th>\n",
       "      <td>20000</td>\n",
       "      <td>20000</td>\n",
       "      <td>1096</td>\n",
       "      <td>8</td>\n",
       "      <td>17051</td>\n",
       "      <td>7</td>\n",
       "      <td>2</td>\n",
       "    </tr>\n",
       "    <tr>\n",
       "      <th>top</th>\n",
       "      <td>Foreign Democrat final.</td>\n",
       "      <td>more tax development both store agreement lawy...</td>\n",
       "      <td>2023-08-31</td>\n",
       "      <td>Daily News</td>\n",
       "      <td>Michael Smith</td>\n",
       "      <td>Health</td>\n",
       "      <td>fake</td>\n",
       "    </tr>\n",
       "    <tr>\n",
       "      <th>freq</th>\n",
       "      <td>1</td>\n",
       "      <td>1</td>\n",
       "      <td>32</td>\n",
       "      <td>2439</td>\n",
       "      <td>12</td>\n",
       "      <td>2922</td>\n",
       "      <td>10056</td>\n",
       "    </tr>\n",
       "  </tbody>\n",
       "</table>\n",
       "</div>"
      ],
      "text/plain": [
       "                          title  \\\n",
       "count                     20000   \n",
       "unique                    20000   \n",
       "top     Foreign Democrat final.   \n",
       "freq                          1   \n",
       "\n",
       "                                                     text        date  \\\n",
       "count                                               20000       20000   \n",
       "unique                                              20000        1096   \n",
       "top     more tax development both store agreement lawy...  2023-08-31   \n",
       "freq                                                    1          32   \n",
       "\n",
       "            source         author category  label  \n",
       "count        19000          19000    20000  20000  \n",
       "unique           8          17051        7      2  \n",
       "top     Daily News  Michael Smith   Health   fake  \n",
       "freq          2439             12     2922  10056  "
      ]
     },
     "execution_count": 13,
     "metadata": {},
     "output_type": "execute_result"
    }
   ],
   "source": [
    "df.describe()"
   ]
  },
  {
   "cell_type": "code",
   "execution_count": 15,
   "metadata": {
    "colab": {
     "base_uri": "https://localhost:8080/",
     "height": 303
    },
    "id": "h-8yaKStfpSr",
    "outputId": "d7e0b750-db65-4cfc-8e3c-0211c7e7a8b7"
   },
   "outputs": [
    {
     "data": {
      "text/plain": [
       "title          0\n",
       "text           0\n",
       "date           0\n",
       "source      1000\n",
       "author      1000\n",
       "category       0\n",
       "label          0\n",
       "dtype: int64"
      ]
     },
     "execution_count": 15,
     "metadata": {},
     "output_type": "execute_result"
    }
   ],
   "source": [
    "df.isnull().sum()"
   ]
  },
  {
   "cell_type": "code",
   "execution_count": 17,
   "metadata": {
    "colab": {
     "base_uri": "https://localhost:8080/",
     "height": 458
    },
    "id": "g41P2Wgtfr6e",
    "outputId": "3cdb68e1-8414-4454-f181-e9d4c8040c04"
   },
   "outputs": [
    {
     "data": {
      "text/plain": [
       "0                      Foreign Democrat final.\n",
       "1          To offer down resource great point.\n",
       "2                 Himself church myself carry.\n",
       "3                         You unit its should.\n",
       "4         Billion believe employee summer how.\n",
       "                         ...                  \n",
       "19995                        House party born.\n",
       "19996    Though nation people maybe price box.\n",
       "19997          Yet exist with experience unit.\n",
       "19998                 School wide itself item.\n",
       "19999           Offer chair cover senior born.\n",
       "Name: title, Length: 20000, dtype: object"
      ]
     },
     "execution_count": 17,
     "metadata": {},
     "output_type": "execute_result"
    }
   ],
   "source": [
    "df['title']"
   ]
  },
  {
   "cell_type": "code",
   "execution_count": 19,
   "metadata": {
    "colab": {
     "base_uri": "https://localhost:8080/"
    },
    "id": "jP5cOqstfxWz",
    "outputId": "33b9793d-8d17-44b6-c73f-2c9010e5e78b"
   },
   "outputs": [
    {
     "data": {
      "text/plain": [
       "20000"
      ]
     },
     "execution_count": 19,
     "metadata": {},
     "output_type": "execute_result"
    }
   ],
   "source": [
    "df['title'].nunique()"
   ]
  },
  {
   "cell_type": "code",
   "execution_count": 21,
   "metadata": {
    "colab": {
     "base_uri": "https://localhost:8080/",
     "height": 458
    },
    "id": "EBu5m5AjgNa2",
    "outputId": "8a5e1ca2-241a-4ffd-a6e8-5511a0f5c929"
   },
   "outputs": [
    {
     "data": {
      "text/plain": [
       "0        more tax development both store agreement lawy...\n",
       "1        probably guess western behind likely next inve...\n",
       "2        them identify forward present success risk sev...\n",
       "3        phone which item yard Republican safe where po...\n",
       "4        wonder myself fact difficult course forget exa...\n",
       "                               ...                        \n",
       "19995    hit and television I change very our happy doo...\n",
       "19996    fear most meet rock even sea value design stan...\n",
       "19997    activity loss very provide eye west create wha...\n",
       "19998    term point general common training watch respo...\n",
       "19999    remain pressure glass me six senior though nor...\n",
       "Name: text, Length: 20000, dtype: object"
      ]
     },
     "execution_count": 21,
     "metadata": {},
     "output_type": "execute_result"
    }
   ],
   "source": [
    "df['text']"
   ]
  },
  {
   "cell_type": "code",
   "execution_count": 23,
   "metadata": {
    "colab": {
     "base_uri": "https://localhost:8080/"
    },
    "id": "0jrEw4BJgQSN",
    "outputId": "72f09ea3-5f91-4e7b-882f-5ba7d57e15ec"
   },
   "outputs": [
    {
     "data": {
      "text/plain": [
       "20000"
      ]
     },
     "execution_count": 23,
     "metadata": {},
     "output_type": "execute_result"
    }
   ],
   "source": [
    "df['text'].nunique()"
   ]
  },
  {
   "cell_type": "code",
   "execution_count": 25,
   "metadata": {
    "colab": {
     "base_uri": "https://localhost:8080/",
     "height": 458
    },
    "id": "OuWXDwNHgUcL",
    "outputId": "a378eedc-ba93-45e8-ed43-1cea36fa6bfe"
   },
   "outputs": [
    {
     "data": {
      "text/plain": [
       "0        2023-03-10\n",
       "1        2022-05-25\n",
       "2        2022-09-01\n",
       "3        2023-02-07\n",
       "4        2023-04-03\n",
       "            ...    \n",
       "19995    2024-12-04\n",
       "19996    2024-05-26\n",
       "19997    2023-04-17\n",
       "19998    2024-06-30\n",
       "19999    2024-01-24\n",
       "Name: date, Length: 20000, dtype: object"
      ]
     },
     "execution_count": 25,
     "metadata": {},
     "output_type": "execute_result"
    }
   ],
   "source": [
    "df['date']"
   ]
  },
  {
   "cell_type": "code",
   "execution_count": 27,
   "metadata": {
    "id": "1ybDhZ9yluJw"
   },
   "outputs": [],
   "source": [
    "df['date'] = pd.to_datetime(df['date'], errors='coerce')\n",
    "\n",
    "df.set_index('date', inplace=True)"
   ]
  },
  {
   "cell_type": "code",
   "execution_count": 29,
   "metadata": {
    "colab": {
     "base_uri": "https://localhost:8080/",
     "height": 489
    },
    "id": "ubdtqbX2gsd8",
    "outputId": "878cd80e-8e39-4d86-82ae-782f6987909b"
   },
   "outputs": [
    {
     "data": {
      "text/plain": [
       "date\n",
       "2023-03-10      NY Times\n",
       "2022-05-25      Fox News\n",
       "2022-09-01           CNN\n",
       "2023-02-07       Reuters\n",
       "2023-04-03           CNN\n",
       "                 ...    \n",
       "2024-12-04           BBC\n",
       "2024-05-26    Daily News\n",
       "2023-04-17           BBC\n",
       "2024-06-30       Reuters\n",
       "2024-01-24    Daily News\n",
       "Name: source, Length: 20000, dtype: object"
      ]
     },
     "execution_count": 29,
     "metadata": {},
     "output_type": "execute_result"
    }
   ],
   "source": [
    "df['source']"
   ]
  },
  {
   "cell_type": "code",
   "execution_count": 31,
   "metadata": {
    "colab": {
     "base_uri": "https://localhost:8080/",
     "height": 455
    },
    "id": "OP6Q_myshcQ1",
    "outputId": "0e8b82fc-86f4-4131-a207-d0ba1c05fdf6"
   },
   "outputs": [
    {
     "data": {
      "text/html": [
       "<div>\n",
       "<style scoped>\n",
       "    .dataframe tbody tr th:only-of-type {\n",
       "        vertical-align: middle;\n",
       "    }\n",
       "\n",
       "    .dataframe tbody tr th {\n",
       "        vertical-align: top;\n",
       "    }\n",
       "\n",
       "    .dataframe thead th {\n",
       "        text-align: right;\n",
       "    }\n",
       "</style>\n",
       "<table border=\"1\" class=\"dataframe\">\n",
       "  <thead>\n",
       "    <tr style=\"text-align: right;\">\n",
       "      <th></th>\n",
       "      <th>title</th>\n",
       "      <th>text</th>\n",
       "      <th>source</th>\n",
       "      <th>author</th>\n",
       "      <th>category</th>\n",
       "      <th>label</th>\n",
       "    </tr>\n",
       "    <tr>\n",
       "      <th>date</th>\n",
       "      <th></th>\n",
       "      <th></th>\n",
       "      <th></th>\n",
       "      <th></th>\n",
       "      <th></th>\n",
       "      <th></th>\n",
       "    </tr>\n",
       "  </thead>\n",
       "  <tbody>\n",
       "    <tr>\n",
       "      <th>2023-10-19</th>\n",
       "      <td>Show technology product alone seem.</td>\n",
       "      <td>case three development painting team group let...</td>\n",
       "      <td>NaN</td>\n",
       "      <td>Nicole Baker</td>\n",
       "      <td>Entertainment</td>\n",
       "      <td>fake</td>\n",
       "    </tr>\n",
       "    <tr>\n",
       "      <th>2022-08-05</th>\n",
       "      <td>Organization total about garden attack.</td>\n",
       "      <td>race degree assume ball staff prepare others l...</td>\n",
       "      <td>NaN</td>\n",
       "      <td>Tonya Anderson</td>\n",
       "      <td>Business</td>\n",
       "      <td>real</td>\n",
       "    </tr>\n",
       "    <tr>\n",
       "      <th>2025-03-27</th>\n",
       "      <td>Risk describe fight clear else learn official.</td>\n",
       "      <td>reveal science popular suddenly sometimes qual...</td>\n",
       "      <td>NaN</td>\n",
       "      <td>Ian Rogers</td>\n",
       "      <td>Entertainment</td>\n",
       "      <td>real</td>\n",
       "    </tr>\n",
       "    <tr>\n",
       "      <th>2024-10-26</th>\n",
       "      <td>Fill business many culture find.</td>\n",
       "      <td>what production country even Mrs impact white ...</td>\n",
       "      <td>NaN</td>\n",
       "      <td>Megan Hernandez</td>\n",
       "      <td>Sports</td>\n",
       "      <td>real</td>\n",
       "    </tr>\n",
       "    <tr>\n",
       "      <th>2022-12-16</th>\n",
       "      <td>Play food note center customer.</td>\n",
       "      <td>use international ability open system medical ...</td>\n",
       "      <td>NaN</td>\n",
       "      <td>Bethany Garcia</td>\n",
       "      <td>Entertainment</td>\n",
       "      <td>fake</td>\n",
       "    </tr>\n",
       "    <tr>\n",
       "      <th>...</th>\n",
       "      <td>...</td>\n",
       "      <td>...</td>\n",
       "      <td>...</td>\n",
       "      <td>...</td>\n",
       "      <td>...</td>\n",
       "      <td>...</td>\n",
       "    </tr>\n",
       "    <tr>\n",
       "      <th>2024-12-12</th>\n",
       "      <td>Cover magazine indeed toward impact begin reme...</td>\n",
       "      <td>bag speak police but night box rather rise qui...</td>\n",
       "      <td>NaN</td>\n",
       "      <td>Jeff Mcintyre</td>\n",
       "      <td>Entertainment</td>\n",
       "      <td>fake</td>\n",
       "    </tr>\n",
       "    <tr>\n",
       "      <th>2024-11-06</th>\n",
       "      <td>Lot participant security person must west.</td>\n",
       "      <td>miss thousand student story risk else task tri...</td>\n",
       "      <td>NaN</td>\n",
       "      <td>Ashley Richardson</td>\n",
       "      <td>Business</td>\n",
       "      <td>real</td>\n",
       "    </tr>\n",
       "    <tr>\n",
       "      <th>2022-10-04</th>\n",
       "      <td>Remember lead concern loss pay form.</td>\n",
       "      <td>few name parent about relationship base protec...</td>\n",
       "      <td>NaN</td>\n",
       "      <td>Alex Coleman</td>\n",
       "      <td>Politics</td>\n",
       "      <td>fake</td>\n",
       "    </tr>\n",
       "    <tr>\n",
       "      <th>2024-07-29</th>\n",
       "      <td>Including prepare administration challenge first.</td>\n",
       "      <td>significant above thing three among mind talk ...</td>\n",
       "      <td>NaN</td>\n",
       "      <td>David Campbell</td>\n",
       "      <td>Technology</td>\n",
       "      <td>real</td>\n",
       "    </tr>\n",
       "    <tr>\n",
       "      <th>2022-12-10</th>\n",
       "      <td>Represent cover bad suffer sure opportunity.</td>\n",
       "      <td>service cut interview candidate learn pattern ...</td>\n",
       "      <td>NaN</td>\n",
       "      <td>Sophia Massey</td>\n",
       "      <td>Science</td>\n",
       "      <td>fake</td>\n",
       "    </tr>\n",
       "  </tbody>\n",
       "</table>\n",
       "<p>1000 rows × 6 columns</p>\n",
       "</div>"
      ],
      "text/plain": [
       "                                                        title  \\\n",
       "date                                                            \n",
       "2023-10-19                Show technology product alone seem.   \n",
       "2022-08-05            Organization total about garden attack.   \n",
       "2025-03-27     Risk describe fight clear else learn official.   \n",
       "2024-10-26                   Fill business many culture find.   \n",
       "2022-12-16                    Play food note center customer.   \n",
       "...                                                       ...   \n",
       "2024-12-12  Cover magazine indeed toward impact begin reme...   \n",
       "2024-11-06         Lot participant security person must west.   \n",
       "2022-10-04               Remember lead concern loss pay form.   \n",
       "2024-07-29  Including prepare administration challenge first.   \n",
       "2022-12-10       Represent cover bad suffer sure opportunity.   \n",
       "\n",
       "                                                         text source  \\\n",
       "date                                                                   \n",
       "2023-10-19  case three development painting team group let...    NaN   \n",
       "2022-08-05  race degree assume ball staff prepare others l...    NaN   \n",
       "2025-03-27  reveal science popular suddenly sometimes qual...    NaN   \n",
       "2024-10-26  what production country even Mrs impact white ...    NaN   \n",
       "2022-12-16  use international ability open system medical ...    NaN   \n",
       "...                                                       ...    ...   \n",
       "2024-12-12  bag speak police but night box rather rise qui...    NaN   \n",
       "2024-11-06  miss thousand student story risk else task tri...    NaN   \n",
       "2022-10-04  few name parent about relationship base protec...    NaN   \n",
       "2024-07-29  significant above thing three among mind talk ...    NaN   \n",
       "2022-12-10  service cut interview candidate learn pattern ...    NaN   \n",
       "\n",
       "                       author       category label  \n",
       "date                                                \n",
       "2023-10-19       Nicole Baker  Entertainment  fake  \n",
       "2022-08-05     Tonya Anderson       Business  real  \n",
       "2025-03-27         Ian Rogers  Entertainment  real  \n",
       "2024-10-26    Megan Hernandez         Sports  real  \n",
       "2022-12-16     Bethany Garcia  Entertainment  fake  \n",
       "...                       ...            ...   ...  \n",
       "2024-12-12      Jeff Mcintyre  Entertainment  fake  \n",
       "2024-11-06  Ashley Richardson       Business  real  \n",
       "2022-10-04       Alex Coleman       Politics  fake  \n",
       "2024-07-29     David Campbell     Technology  real  \n",
       "2022-12-10      Sophia Massey        Science  fake  \n",
       "\n",
       "[1000 rows x 6 columns]"
      ]
     },
     "execution_count": 31,
     "metadata": {},
     "output_type": "execute_result"
    }
   ],
   "source": [
    "source_null=df[df['source'].isnull()]\n",
    "source_null"
   ]
  },
  {
   "cell_type": "code",
   "execution_count": 33,
   "metadata": {
    "id": "haaOFm_egydi"
   },
   "outputs": [],
   "source": [
    "df['source']=df['source'].fillna(df['source'].mode()[0])"
   ]
  },
  {
   "cell_type": "code",
   "execution_count": 35,
   "metadata": {
    "colab": {
     "base_uri": "https://localhost:8080/",
     "height": 489
    },
    "id": "GdFFcvGBhVxF",
    "outputId": "e4d66b36-e9de-451c-8dd2-5de18944c69c"
   },
   "outputs": [
    {
     "data": {
      "text/plain": [
       "date\n",
       "2023-03-10      NY Times\n",
       "2022-05-25      Fox News\n",
       "2022-09-01           CNN\n",
       "2023-02-07       Reuters\n",
       "2023-04-03           CNN\n",
       "                 ...    \n",
       "2024-12-04           BBC\n",
       "2024-05-26    Daily News\n",
       "2023-04-17           BBC\n",
       "2024-06-30       Reuters\n",
       "2024-01-24    Daily News\n",
       "Name: source, Length: 20000, dtype: object"
      ]
     },
     "execution_count": 35,
     "metadata": {},
     "output_type": "execute_result"
    }
   ],
   "source": [
    "df['source']"
   ]
  },
  {
   "cell_type": "code",
   "execution_count": 37,
   "metadata": {
    "colab": {
     "base_uri": "https://localhost:8080/",
     "height": 272
    },
    "id": "eE0oSwfDiF-K",
    "outputId": "c68fb892-43ca-49af-c1ac-6474a0ffcbf3"
   },
   "outputs": [
    {
     "data": {
      "text/plain": [
       "title          0\n",
       "text           0\n",
       "source         0\n",
       "author      1000\n",
       "category       0\n",
       "label          0\n",
       "dtype: int64"
      ]
     },
     "execution_count": 37,
     "metadata": {},
     "output_type": "execute_result"
    }
   ],
   "source": [
    "df.isnull().sum()"
   ]
  },
  {
   "cell_type": "code",
   "execution_count": 39,
   "metadata": {
    "colab": {
     "base_uri": "https://localhost:8080/",
     "height": 489
    },
    "id": "7K4GS3umiRa9",
    "outputId": "92abcecf-60c3-4f31-d086-7bf83fb95f19"
   },
   "outputs": [
    {
     "data": {
      "text/plain": [
       "date\n",
       "2023-03-10            Paula George\n",
       "2022-05-25             Joseph Hill\n",
       "2022-09-01          Julia Robinson\n",
       "2023-02-07    Mr. David Foster DDS\n",
       "2023-04-03           Austin Walker\n",
       "                      ...         \n",
       "2024-12-04              Gary Miles\n",
       "2024-05-26           Maria Mcbride\n",
       "2023-04-17        Kristen Franklin\n",
       "2024-06-30              David Wise\n",
       "2024-01-24          James Peterson\n",
       "Name: author, Length: 20000, dtype: object"
      ]
     },
     "execution_count": 39,
     "metadata": {},
     "output_type": "execute_result"
    }
   ],
   "source": [
    "df['author']"
   ]
  },
  {
   "cell_type": "code",
   "execution_count": 41,
   "metadata": {
    "colab": {
     "base_uri": "https://localhost:8080/",
     "height": 455
    },
    "id": "1_7agO6biUd5",
    "outputId": "741c8cf1-9c2e-40ec-82b0-4f66c0627ea1"
   },
   "outputs": [
    {
     "data": {
      "text/html": [
       "<div>\n",
       "<style scoped>\n",
       "    .dataframe tbody tr th:only-of-type {\n",
       "        vertical-align: middle;\n",
       "    }\n",
       "\n",
       "    .dataframe tbody tr th {\n",
       "        vertical-align: top;\n",
       "    }\n",
       "\n",
       "    .dataframe thead th {\n",
       "        text-align: right;\n",
       "    }\n",
       "</style>\n",
       "<table border=\"1\" class=\"dataframe\">\n",
       "  <thead>\n",
       "    <tr style=\"text-align: right;\">\n",
       "      <th></th>\n",
       "      <th>title</th>\n",
       "      <th>text</th>\n",
       "      <th>source</th>\n",
       "      <th>author</th>\n",
       "      <th>category</th>\n",
       "      <th>label</th>\n",
       "    </tr>\n",
       "    <tr>\n",
       "      <th>date</th>\n",
       "      <th></th>\n",
       "      <th></th>\n",
       "      <th></th>\n",
       "      <th></th>\n",
       "      <th></th>\n",
       "      <th></th>\n",
       "    </tr>\n",
       "  </thead>\n",
       "  <tbody>\n",
       "    <tr>\n",
       "      <th>2024-04-18</th>\n",
       "      <td>Discover quite less option firm.</td>\n",
       "      <td>family century side really pattern door build ...</td>\n",
       "      <td>Fox News</td>\n",
       "      <td>NaN</td>\n",
       "      <td>Business</td>\n",
       "      <td>fake</td>\n",
       "    </tr>\n",
       "    <tr>\n",
       "      <th>2023-05-06</th>\n",
       "      <td>People box half of other building field decide.</td>\n",
       "      <td>site foreign personal character blood per film...</td>\n",
       "      <td>Fox News</td>\n",
       "      <td>NaN</td>\n",
       "      <td>Politics</td>\n",
       "      <td>fake</td>\n",
       "    </tr>\n",
       "    <tr>\n",
       "      <th>2023-06-05</th>\n",
       "      <td>Herself force member raise it religious.</td>\n",
       "      <td>any art difference city course fly modern occu...</td>\n",
       "      <td>Global Times</td>\n",
       "      <td>NaN</td>\n",
       "      <td>Sports</td>\n",
       "      <td>real</td>\n",
       "    </tr>\n",
       "    <tr>\n",
       "      <th>2022-05-10</th>\n",
       "      <td>Finish nearly five southern manage point work.</td>\n",
       "      <td>whatever nor conference respond large ago expe...</td>\n",
       "      <td>Global Times</td>\n",
       "      <td>NaN</td>\n",
       "      <td>Health</td>\n",
       "      <td>real</td>\n",
       "    </tr>\n",
       "    <tr>\n",
       "      <th>2024-04-01</th>\n",
       "      <td>Already amount safe prepare keep.</td>\n",
       "      <td>between tend surface coach score lawyer succes...</td>\n",
       "      <td>CNN</td>\n",
       "      <td>NaN</td>\n",
       "      <td>Technology</td>\n",
       "      <td>fake</td>\n",
       "    </tr>\n",
       "    <tr>\n",
       "      <th>...</th>\n",
       "      <td>...</td>\n",
       "      <td>...</td>\n",
       "      <td>...</td>\n",
       "      <td>...</td>\n",
       "      <td>...</td>\n",
       "      <td>...</td>\n",
       "    </tr>\n",
       "    <tr>\n",
       "      <th>2024-09-09</th>\n",
       "      <td>Big win image drop.</td>\n",
       "      <td>success sign scientist house him doctor when s...</td>\n",
       "      <td>Daily News</td>\n",
       "      <td>NaN</td>\n",
       "      <td>Politics</td>\n",
       "      <td>fake</td>\n",
       "    </tr>\n",
       "    <tr>\n",
       "      <th>2022-09-06</th>\n",
       "      <td>Upon line leg various everyone position every.</td>\n",
       "      <td>community kitchen boy town address site public...</td>\n",
       "      <td>Reuters</td>\n",
       "      <td>NaN</td>\n",
       "      <td>Politics</td>\n",
       "      <td>real</td>\n",
       "    </tr>\n",
       "    <tr>\n",
       "      <th>2024-05-12</th>\n",
       "      <td>It accept sell candidate generation skin.</td>\n",
       "      <td>popular site may approach party song approach ...</td>\n",
       "      <td>BBC</td>\n",
       "      <td>NaN</td>\n",
       "      <td>Politics</td>\n",
       "      <td>fake</td>\n",
       "    </tr>\n",
       "    <tr>\n",
       "      <th>2022-10-18</th>\n",
       "      <td>Student within direction star parent talk inte...</td>\n",
       "      <td>different vote indeed we green red from do par...</td>\n",
       "      <td>Global Times</td>\n",
       "      <td>NaN</td>\n",
       "      <td>Science</td>\n",
       "      <td>real</td>\n",
       "    </tr>\n",
       "    <tr>\n",
       "      <th>2023-04-03</th>\n",
       "      <td>Individual four until support.</td>\n",
       "      <td>behind through nature street value represent t...</td>\n",
       "      <td>CNN</td>\n",
       "      <td>NaN</td>\n",
       "      <td>Business</td>\n",
       "      <td>fake</td>\n",
       "    </tr>\n",
       "  </tbody>\n",
       "</table>\n",
       "<p>1000 rows × 6 columns</p>\n",
       "</div>"
      ],
      "text/plain": [
       "                                                        title  \\\n",
       "date                                                            \n",
       "2024-04-18                   Discover quite less option firm.   \n",
       "2023-05-06    People box half of other building field decide.   \n",
       "2023-06-05           Herself force member raise it religious.   \n",
       "2022-05-10     Finish nearly five southern manage point work.   \n",
       "2024-04-01                  Already amount safe prepare keep.   \n",
       "...                                                       ...   \n",
       "2024-09-09                                Big win image drop.   \n",
       "2022-09-06     Upon line leg various everyone position every.   \n",
       "2024-05-12          It accept sell candidate generation skin.   \n",
       "2022-10-18  Student within direction star parent talk inte...   \n",
       "2023-04-03                     Individual four until support.   \n",
       "\n",
       "                                                         text        source  \\\n",
       "date                                                                          \n",
       "2024-04-18  family century side really pattern door build ...      Fox News   \n",
       "2023-05-06  site foreign personal character blood per film...      Fox News   \n",
       "2023-06-05  any art difference city course fly modern occu...  Global Times   \n",
       "2022-05-10  whatever nor conference respond large ago expe...  Global Times   \n",
       "2024-04-01  between tend surface coach score lawyer succes...           CNN   \n",
       "...                                                       ...           ...   \n",
       "2024-09-09  success sign scientist house him doctor when s...    Daily News   \n",
       "2022-09-06  community kitchen boy town address site public...       Reuters   \n",
       "2024-05-12  popular site may approach party song approach ...           BBC   \n",
       "2022-10-18  different vote indeed we green red from do par...  Global Times   \n",
       "2023-04-03  behind through nature street value represent t...           CNN   \n",
       "\n",
       "           author    category label  \n",
       "date                                 \n",
       "2024-04-18    NaN    Business  fake  \n",
       "2023-05-06    NaN    Politics  fake  \n",
       "2023-06-05    NaN      Sports  real  \n",
       "2022-05-10    NaN      Health  real  \n",
       "2024-04-01    NaN  Technology  fake  \n",
       "...           ...         ...   ...  \n",
       "2024-09-09    NaN    Politics  fake  \n",
       "2022-09-06    NaN    Politics  real  \n",
       "2024-05-12    NaN    Politics  fake  \n",
       "2022-10-18    NaN     Science  real  \n",
       "2023-04-03    NaN    Business  fake  \n",
       "\n",
       "[1000 rows x 6 columns]"
      ]
     },
     "execution_count": 41,
     "metadata": {},
     "output_type": "execute_result"
    }
   ],
   "source": [
    "a_null=df[df['author'].isnull()]\n",
    "a_null"
   ]
  },
  {
   "cell_type": "code",
   "execution_count": 43,
   "metadata": {
    "id": "IofNoSNfii4E"
   },
   "outputs": [],
   "source": [
    "df['author']=df['author'].fillna(\"No Author Available\")"
   ]
  },
  {
   "cell_type": "code",
   "execution_count": 45,
   "metadata": {
    "colab": {
     "base_uri": "https://localhost:8080/",
     "height": 489
    },
    "id": "5XNQ7o5-i15s",
    "outputId": "bdca343a-784d-439b-a3a7-9f847954339a"
   },
   "outputs": [
    {
     "data": {
      "text/plain": [
       "date\n",
       "2023-03-10            Paula George\n",
       "2022-05-25             Joseph Hill\n",
       "2022-09-01          Julia Robinson\n",
       "2023-02-07    Mr. David Foster DDS\n",
       "2023-04-03           Austin Walker\n",
       "                      ...         \n",
       "2024-12-04              Gary Miles\n",
       "2024-05-26           Maria Mcbride\n",
       "2023-04-17        Kristen Franklin\n",
       "2024-06-30              David Wise\n",
       "2024-01-24          James Peterson\n",
       "Name: author, Length: 20000, dtype: object"
      ]
     },
     "execution_count": 45,
     "metadata": {},
     "output_type": "execute_result"
    }
   ],
   "source": [
    "df['author']"
   ]
  },
  {
   "cell_type": "code",
   "execution_count": 47,
   "metadata": {
    "colab": {
     "base_uri": "https://localhost:8080/",
     "height": 272
    },
    "id": "SCRYKTusi4Uw",
    "outputId": "f00193e3-b9f0-4f05-cd50-8a60454d29ab"
   },
   "outputs": [
    {
     "data": {
      "text/plain": [
       "title       0\n",
       "text        0\n",
       "source      0\n",
       "author      0\n",
       "category    0\n",
       "label       0\n",
       "dtype: int64"
      ]
     },
     "execution_count": 47,
     "metadata": {},
     "output_type": "execute_result"
    }
   ],
   "source": [
    "df.isnull().sum()"
   ]
  },
  {
   "cell_type": "code",
   "execution_count": 49,
   "metadata": {
    "colab": {
     "base_uri": "https://localhost:8080/",
     "height": 489
    },
    "id": "adk45nOqi8Qn",
    "outputId": "e049b48c-426d-4d01-aac8-60ea8d361310"
   },
   "outputs": [
    {
     "data": {
      "text/plain": [
       "date\n",
       "2023-03-10         Politics\n",
       "2022-05-25         Politics\n",
       "2022-09-01         Business\n",
       "2023-02-07          Science\n",
       "2023-04-03       Technology\n",
       "                  ...      \n",
       "2024-12-04    Entertainment\n",
       "2024-05-26    Entertainment\n",
       "2023-04-17    Entertainment\n",
       "2024-06-30           Health\n",
       "2024-01-24           Health\n",
       "Name: category, Length: 20000, dtype: object"
      ]
     },
     "execution_count": 49,
     "metadata": {},
     "output_type": "execute_result"
    }
   ],
   "source": [
    "df['category']"
   ]
  },
  {
   "cell_type": "code",
   "execution_count": 51,
   "metadata": {
    "colab": {
     "base_uri": "https://localhost:8080/",
     "height": 489
    },
    "id": "gPaOE0asi_lb",
    "outputId": "f7c70cba-cda9-4b35-c261-33cf058b8859"
   },
   "outputs": [
    {
     "data": {
      "text/plain": [
       "date\n",
       "2023-03-10    real\n",
       "2022-05-25    fake\n",
       "2022-09-01    fake\n",
       "2023-02-07    fake\n",
       "2023-04-03    fake\n",
       "              ... \n",
       "2024-12-04    fake\n",
       "2024-05-26    real\n",
       "2023-04-17    real\n",
       "2024-06-30    fake\n",
       "2024-01-24    fake\n",
       "Name: label, Length: 20000, dtype: object"
      ]
     },
     "execution_count": 51,
     "metadata": {},
     "output_type": "execute_result"
    }
   ],
   "source": [
    "df['label']"
   ]
  },
  {
   "cell_type": "code",
   "execution_count": 53,
   "metadata": {
    "id": "cVrYDmlKkiFJ"
   },
   "outputs": [],
   "source": [
    "df['text_len'] = df['text'].apply(lambda x: len(str(x).split()))\n",
    "df['title_len'] = df['title'].apply(lambda x: len(str(x)))"
   ]
  },
  {
   "cell_type": "markdown",
   "metadata": {
    "id": "lAcBTiURHEWO"
   },
   "source": [
    "## 1.Boxplot of Text Length by Label"
   ]
  },
  {
   "cell_type": "code",
   "execution_count": 56,
   "metadata": {
    "colab": {
     "base_uri": "https://localhost:8080/",
     "height": 507
    },
    "id": "vSgHwy6HjDOZ",
    "outputId": "cf1d4aba-336b-4d67-c71b-b9ed8b81bc2a"
   },
   "outputs": [
    {
     "data": {
      "image/png": "[encoded data removed]",
      "text/plain": [
       "<Figure size 800x500 with 1 Axes>"
      ]
     },
     "metadata": {},
     "output_type": "display_data"
    }
   ],
   "source": [
    "plt.figure(figsize=(8, 5))\n",
    "sns.boxplot(x='label', y='text_len', data=df)\n",
    "plt.title('Boxplot of Text Length by Label')\n",
    "plt.xlabel('Label (0 = Real, 1 = Fake)')\n",
    "plt.ylabel('Text Length')\n",
    "plt.tight_layout()\n",
    "plt.show()"
   ]
  },
  {
   "cell_type": "markdown",
   "metadata": {
    "id": "kGapZc28HPdJ"
   },
   "source": [
    "## 2.Histogram of Text Lengths"
   ]
  },
  {
   "cell_type": "code",
   "execution_count": 58,
   "metadata": {
    "colab": {
     "base_uri": "https://localhost:8080/",
     "height": 507
    },
    "id": "IvEoar2Ikbd2",
    "outputId": "d0bae272-e0f5-4d0a-e26a-b9a99b286b9e"
   },
   "outputs": [
    {
     "data": {
      "image/png": "[encoded data removed]",
      "text/plain": [
       "<Figure size 800x500 with 1 Axes>"
      ]
     },
     "metadata": {},
     "output_type": "display_data"
    }
   ],
   "source": [
    "plt.figure(figsize=(8, 5))\n",
    "sns.histplot(df['text_len'], bins=50, kde=True, color='skyblue')\n",
    "plt.title('Histogram of Text Lengths')\n",
    "plt.xlabel('Number of Words')\n",
    "plt.ylabel('Frequency')\n",
    "plt.tight_layout()\n",
    "plt.show()"
   ]
  },
  {
   "cell_type": "code",
   "execution_count": 60,
   "metadata": {
    "colab": {
     "base_uri": "https://localhost:8080/",
     "height": 507
    },
    "id": "y1boDFl4k2yd",
    "outputId": "48485646-206e-4a50-fe2f-a326938250f2"
   },
   "outputs": [
    {
     "data": {
      "image/png": "[encoded data removed]",
      "text/plain": [
       "<Figure size 800x500 with 1 Axes>"
      ]
     },
     "metadata": {},
     "output_type": "display_data"
    }
   ],
   "source": [
    "df_clean = df[df['author'] != 'No Author Available']\n",
    "top_authors = df_clean['author'].value_counts().head(10)\n",
    "plt.figure(figsize=(8, 5))\n",
    "sns.barplot(x=top_authors.values, y=top_authors.index,hue=top_authors.index, palette='viridis')\n",
    "plt.title('Top 10 Most Frequent Authors')\n",
    "plt.xlabel('Number of Articles')\n",
    "plt.ylabel('Author')\n",
    "plt.tight_layout()\n",
    "plt.show()\n"
   ]
  },
  {
   "cell_type": "code",
   "execution_count": 61,
   "metadata": {
    "colab": {
     "base_uri": "https://localhost:8080/",
     "height": 507
    },
    "id": "3TdOC2NElbEf",
    "outputId": "8321afd4-8d2e-4990-e129-280f595887fe"
   },
   "outputs": [
    {
     "data": {
      "image/png": "[encoded data removed]",
      "text/plain": [
       "<Figure size 1000x500 with 1 Axes>"
      ]
     },
     "metadata": {},
     "output_type": "display_data"
    }
   ],
   "source": [
    "yearly_counts = df.resample('YE').size()\n",
    "plt.figure(figsize=(10, 5))\n",
    "yearly_counts.plot(kind='bar', color='teal')\n",
    "plt.title('Articles Published Per Year')\n",
    "plt.xlabel('Year')\n",
    "plt.ylabel('Number of Articles')\n",
    "plt.xticks(rotation=0)\n",
    "plt.tight_layout()\n",
    "plt.show()"
   ]
  },
  {
   "cell_type": "markdown",
   "metadata": {
    "id": "u5cpVoS_IX2E"
   },
   "source": [
    "# Final Conclusions:\n",
    "\n",
    "1. Boxplot of Text Length by Label\n",
    "  \n",
    "  The distribution of article lengths varies significantly between real (0) and\n",
    "fake (1) news.\n",
    "\n",
    "  Fake news articles tend to have shorter text lengths, suggesting that they may prioritize sensationalism over substance.\n",
    "\n",
    "\n",
    "2. Histogram of Text Lengths\n",
    "\n",
    "  The majority of articles fall within a moderate range of text length (e.g., 100 to 500 words).\n",
    "\n",
    "  A small number of articles are exceptionally long, possibly in-depth reports or opinion pieces.\n",
    "\n",
    "\n",
    "3. Top 10 Most Frequent Authors\n",
    "\n",
    "  A handful of authors contribute a large number of articles, indicating a skewed distribution.\n",
    "\n",
    "  These frequent authors could be automated bots, prominent journalists, or syndicated sources.\n",
    "\n",
    "\n",
    "4. Articles Published Per Year\n",
    "\n",
    "  There is fluctuation in article publication volume over the years.\n",
    "\n",
    "  Specific years show spikes, possibly due to major global events or elections.\n",
    "\n",
    "\n"
   ]
  }
 ],
 "metadata": {
  "colab": {
   "provenance": []
  },
  "kernelspec": {
   "display_name": "Python 3 (ipykernel)",
   "language": "python",
   "name": "python3"
  },
  "language_info": {
   "codemirror_mode": {
    "name": "ipython",
    "version": 3
   },
   "file_extension": ".py",
   "mimetype": "text/x-python",
   "name": "python",
   "nbconvert_exporter": "python",
   "pygments_lexer": "ipython3",
   "version": "3.12.7"
  }
 },
 "nbformat": 4,
 "nbformat_minor": 4
}
